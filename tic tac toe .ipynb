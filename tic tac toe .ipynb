{
 "cells": [
  {
   "cell_type": "code",
   "execution_count": 1,
   "id": "e838d1b6",
   "metadata": {},
   "outputs": [],
   "source": [
    "import time\n",
    "from IPython.display import clear_output\n",
    "def board():\n",
    "    global listgame\n",
    "    listgame = [' ',' ',' ',' ',' ',' ',' ',' ',' ']\n",
    "\n",
    "    \n",
    "    "
   ]
  },
  {
   "cell_type": "code",
   "execution_count": 2,
   "id": "aaf605c1",
   "metadata": {},
   "outputs": [],
   "source": [
    "def set_players():\n",
    "    acceptable_answers = ['x','o']\n",
    "    global player_one\n",
    "    player_one = ''\n",
    "    global player_two\n",
    "    player_two = ''\n",
    "    while player_one not in acceptable_answers:\n",
    "        player_one = input('\\nPlayer 1: Do you want to be X or O?: ').lower()\n",
    "        if player_one not in acceptable_answers:\n",
    "            print('Please choose X or O')\n",
    "    if player_one == 'x':\n",
    "        player_two = 'o'\n",
    "    elif player_one == 'o':\n",
    "        player_two = 'x'\n",
    "    print(f'\\nPlayer 1 will go first with {player_one.upper()}\\n')\n",
    "   \n",
    "    "
   ]
  },
  {
   "cell_type": "code",
   "execution_count": 14,
   "id": "8c1925be",
   "metadata": {},
   "outputs": [],
   "source": [
    "def gaming():\n",
    "    set_players()\n",
    "    acceptable_positions = [0,1,2,3,4,5,6,7,8]\n",
    "    moves = ''\n",
    "    player = 1\n",
    "    board()\n",
    "    listex = [0,1,2,3,4,5,6,7,8]\n",
    "    while moves not in acceptable_positions:\n",
    "        if player == 1:\n",
    "            counter = -1\n",
    "            moves = input(f'\\nPlayer {player}:\\n\\nplease choose a position from the board to place {player_one.upper()} at:  \\n\\nBoard and its positions:\\t     Board structure: \\n\\n{listgame[0]} | {listgame[1]} | {listgame[2]}\\t\\t\\t\\t{listex[0]} | {listex[1]} | {listex[2]}\\n---------\\t\\t\\t\\t---------\\n{listgame[3]} | {listgame[4]} | {listgame[5]}\\t\\t\\t\\t{listex[3]} | {listex[4]} | {listex[5]}\\n---------\\t\\t\\t\\t---------\\n{listgame[6]} | {listgame[7]} | {listgame[8]}\\t\\t\\t\\t{listex[6]} | {listex[7]} | {listex[8]}\\n\\n')\n",
    "            if moves.isdigit() != True or int(moves) not in acceptable_positions:\n",
    "                print('\\nPlease enter a valid position (0-8)\\n')\n",
    "                time.sleep(2)\n",
    "            elif listgame[int(moves)] == 'X' or listgame[int(moves)] == 'O':\n",
    "                print('\\nPlease choose a position that was NOT TAKEN\\n')\n",
    "                time.sleep(2)\n",
    "            elif int(moves) in acceptable_positions:\n",
    "                listgame[int(moves)] = player_one.upper()\n",
    "                if listgame[0] == listgame[1] == listgame[2] == player_one.upper() or listgame[3] == listgame[4] == listgame[5] == player_one.upper() or listgame[6] == listgame[7] == listgame[8] == player_one.upper() or listgame[0] == listgame[3] == listgame[6] == player_one.upper() or listgame[1] == listgame[4] == listgame[7] == player_one.upper() or listgame[2] == listgame[5] == listgame[8] == player_one.upper() or listgame[6] == listgame[4] == listgame[2] == player_one.upper() or listgame[0] == listgame[4] == listgame[8] == player_one.upper():\n",
    "                    break\n",
    "                player += 1   \n",
    "            clear_output()\n",
    "            \n",
    "            \n",
    "        elif player == 2:\n",
    "            counter = -1\n",
    "            print(f'\\nBoard and its positions:\\t     Board structure: \\n\\n{listgame[0]} | {listgame[1]} | {listgame[2]}\\t\\t\\t\\t{listex[0]} | {listex[1]} | {listex[2]}\\n---------\\t\\t\\t\\t---------\\n{listgame[3]} | {listgame[4]} | {listgame[5]}\\t\\t\\t\\t{listex[3]} | {listex[4]} | {listex[5]}\\n---------\\t\\t\\t\\t---------\\n{listgame[6]} | {listgame[7]} | {listgame[8]}\\t\\t\\t\\t{listex[6]} | {listex[7]} | {listex[8]}')\n",
    "            moves = input(f'\\nPlayer {player}:\\n\\nplease choose a position from the board to place {player_two.upper()} at: \\n\\n')\n",
    "            if moves.isdigit() != True or int(moves) not in acceptable_positions:\n",
    "                print('\\nPlease enter a valid position (0-8)\\n')\n",
    "                time.sleep(2)\n",
    "            elif listgame[int(moves)] == 'X' or listgame[int(moves)] == 'O':\n",
    "                print('\\nPlease choose a position that was NOT TAKEN\\n')\n",
    "                time.sleep(2)\n",
    "            elif int(moves) in acceptable_positions:\n",
    "                listgame[int(moves)] = player_two.upper()\n",
    "                if listgame[0] == listgame[1] == listgame[2] == player_two.upper() or listgame[3] == listgame[4] == listgame[5] == player_two.upper() or listgame[6] == listgame[7] == listgame[8] == player_two.upper() or listgame[0] == listgame[3] == listgame[6] == player_two.upper() or listgame[1] == listgame[4] == listgame[7] == player_two.upper() or listgame[2] == listgame[5] == listgame[8] == player_two.upper() or listgame[6] == listgame[4] == listgame[2] == player_two.upper() or listgame[0] == listgame[4] == listgame[8] == player_two.upper():\n",
    "                    break;\n",
    "                player -= 1\n",
    "            clear_output()\n",
    "    print(f'\\n{listgame[0]} | {listgame[1]} | {listgame[2]}\\n---------\\n{listgame[3]} | {listgame[4]} | {listgame[5]}\\n---------\\n{listgame[6]} | {listgame[7]} | {listgame[8]}\\n')\n",
    "\n",
    "    print(f'\\nCongrats player {player}, you WON\\n')   \n",
    "    game_on()"
   ]
  },
  {
   "cell_type": "code",
   "execution_count": 10,
   "id": "1aa80ad0",
   "metadata": {},
   "outputs": [],
   "source": [
    "def game_on():\n",
    "    print('Welcome to Tic Tac Toe!\\n')\n",
    "    answer = ''\n",
    "    while answer != 'y' and answer != 'n':\n",
    "        answer = input('Would you like to play? Y or N: ').lower()\n",
    "        if answer == 'y':\n",
    "            clear_output()\n",
    "            gaming()\n",
    "        elif answer == 'n':\n",
    "            print('See you later, then!')\n",
    "            break\n",
    "        \n",
    "    \n",
    "    \n",
    "    "
   ]
  },
  {
   "cell_type": "code",
   "execution_count": null,
   "id": "10b4374f",
   "metadata": {},
   "outputs": [
    {
     "name": "stdout",
     "output_type": "stream",
     "text": [
      "\n",
      "Board and its positions:\t     Board structure: \n",
      "\n",
      "X |   | O\t\t\t\t0 | 1 | 2\n",
      "---------\t\t\t\t---------\n",
      "X | X | O\t\t\t\t3 | 4 | 5\n",
      "---------\t\t\t\t---------\n",
      "  |   |  \t\t\t\t6 | 7 | 8\n",
      "\n",
      "Player 2:\n",
      "\n",
      "please choose a position from the board to place O at: \n",
      "\n",
      "8\n",
      "\n",
      "X |   | O\n",
      "---------\n",
      "X | X | O\n",
      "---------\n",
      "  |   | O\n",
      "\n",
      "\n",
      "Congrats player 2, you WON\n",
      "\n",
      "Welcome to Tic Tac Toe!\n",
      "\n"
     ]
    }
   ],
   "source": [
    "game_on()"
   ]
  },
  {
   "cell_type": "code",
   "execution_count": null,
   "id": "359598bc",
   "metadata": {},
   "outputs": [],
   "source": []
  }
 ],
 "metadata": {
  "kernelspec": {
   "display_name": "Python 3",
   "language": "python",
   "name": "python3"
  },
  "language_info": {
   "codemirror_mode": {
    "name": "ipython",
    "version": 3
   },
   "file_extension": ".py",
   "mimetype": "text/x-python",
   "name": "python",
   "nbconvert_exporter": "python",
   "pygments_lexer": "ipython3",
   "version": "3.8.8"
  }
 },
 "nbformat": 4,
 "nbformat_minor": 5
}
